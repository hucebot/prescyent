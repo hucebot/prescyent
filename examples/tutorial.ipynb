{
 "cells": [
  {
   "cell_type": "markdown",
   "metadata": {},
   "source": [
    "# Beforehand\n",
    "\n",
    "## Presentation of the lib ?\n",
    "\n",
    "## Pre requisites\n",
    "\n",
    "Note that you may want to run this jupyter notebook in a virtual env !  \n",
    "To do so, create your environment with virtualenv or conda, activate it, install ipykernel and add your virtual environment to the jupyter kernels.  \n",
    "You should find all the necessary information here: https://janakiev.com/blog/jupyter-virtual-envs/  \n",
    "\n",
    "Here is what I personally did:  \n",
    "\n",
    "<details>\n",
    "    <summary>Click once on <font color=\"blue\"><b>this text</b></font> to show/hide the commands I used</summary>\n",
    "\n",
    "```bash\n",
    "    virtualenv .venv\n",
    "    source .venv/bin/activate\n",
    "    pip install ipykernel\n",
    "    python -m ipykernel install --name=venv_prescyent\n",
    "```\n",
    "</details>\n",
    "\n",
    "\n",
    "You should now edit and run this jupyter notebook in your browser, by running jupyter in your terminal with:  `jupyter notebook`  \n",
    "Or also run jupyters notebooks directly in vscode, selecting your newly created kernel instead of the current selection in the top right corner\n"
   ]
  },
  {
   "cell_type": "markdown",
   "metadata": {},
   "source": [
    "# Let's get started\n",
    "\n",
    "## Install the lib and download a dataset\n",
    "\n",
    "You should have all necessary information in the readme, and if not it's the perfect occasion to tell me !  \n",
    "Here we want to install the library from pypi, and load a dataset  \n",
    "Note that the pypi install of PreScyent install also all of its dependencies, including torch and cuda which can be long to install. You may want to install a custom version of torch beforehand that would still match the dependencies of PreScyent, so any torch above 2.0 (and bellow 3.0 if you are doing this tutorial from the future.)  \n",
    "In that case, choose a version of pytroch for your environment here: https://pytorch.org/get-started/locally/  \n",
    "\n",
    "\n",
    "The dataset we want to download is the TeleopIcub Dataset that you can find here: https://zenodo.org/records/5913573  \n",
    "or directly in its .hdf5 format here https://gitlab.inria.fr/hucebot/datasets/andydata-lab-prescientteleopicub (if you have the access rights)  \n",
    "\n",
    "If you have the original data from the zenodo website, you have to pre process it into the library's format to be able to load it and use it in the lib.  \n",
    "Again, please check the readme for the instructions !  \n",
    "\n",
    "\n",
    "<details>\n",
    "    <summary>Click once on <font color=\"blue\"><b>this text</b></font> to show/hide the commands I used</summary>\n",
    "\n",
    "In the virualenv, install a specific version of torch instead of letting the library choose from its dependencies\n",
    "```bash\n",
    "    pip install torch --index-url https://download.pytorch.org/whl/cpu\n",
    "```\n",
    "\n",
    "Install the lib from pypi\n",
    "```bash\n",
    "    pip install prescyent\n",
    "```\n",
    "\n",
    "Download and prepare dataset\n",
    "```bash\n",
    "    wget https://zenodo.org/records/5913573/files/AndyData-lab-prescientTeleopICub.zip\n",
    "    unzip AndyData-lab-prescientTeleopICub.zip -d AndyData-lab-prescientTeleopICub/\n",
    "    wget https://raw.githubusercontent.com/hucebot/prescyent/refs/heads/main/dataset_preprocessing/teleopicubdataset_to_hdf5.py\n",
    "    python teleopicubdataset_to_hdf5.py --data_path AndyData-lab-prescientTeleopICub/\n",
    "```\n",
    "\n",
    "</details>"
   ]
  },
  {
   "cell_type": "markdown",
   "metadata": {},
   "source": [
    "## Meet the Dataset and Trajectory\n",
    "\n",
    "Load the downloaded and processed dataset using the corresponding dataset class  \n",
    "\n",
    "\n",
    "We use Config classes for our main classes such as Datasets, Predictors, Scalers, or TrainingConfig for the Predictor's trainer  \n",
    "Such classes allows us to define default values and give some constraints or type hints about the possible inputs  \n",
    "If you use a code editor with auto_completion you'll have default values and types indicated, you can also refer to the user documentation for each config file here:  \n",
    "https://hucebot.github.io/prescyent/configuration_files.html  \n",
    "\n",
    "\n",
    "Update the dataset's config and see the corresponding generated tensor pairs and plots using the functions bellow !"
   ]
  },
  {
   "cell_type": "code",
   "execution_count": 1,
   "metadata": {},
   "outputs": [
    {
     "name": "stdout",
     "output_type": "stream",
     "text": [
      "Teleop C:\\Users\\Alaix\\AppData\\Local\\Temp\\tmp41uukyhy.hdf5\n"
     ]
    },
    {
     "name": "stderr",
     "output_type": "stream",
     "text": [
      "Writing used trajectories in temp file hdf5: 100%|\u001b[34m██████████\u001b[0m| 90/90 [00:00<00:00, 670.05it/s]\n",
      "Writing used trajectories in temp file hdf5: 100%|\u001b[34m██████████\u001b[0m| 25/25 [00:00<00:00, 514.03it/s]\n",
      "Writing used trajectories in temp file hdf5: 100%|\u001b[34m██████████\u001b[0m| 13/13 [00:00<00:00, 455.20it/s]\n",
      "prescyent.dataset : DEBUG - Tensor pairs will be generated for a LearningTypes.SEQ2SEQ learning type [C:\\Users\\Alaix\\repositories\\prescyent\\prescyent\\dataset\\dataset.py:189]\n",
      "prescyent.dataset : INFO  - Generating new datapair from 90 trajectories on disk [C:\\Users\\Alaix\\repositories\\prescyent\\prescyent\\dataset\\hdf5_datasample.py:40]\n"
     ]
    },
    {
     "name": "stdout",
     "output_type": "stream",
     "text": [
      "datasample C:\\Users\\Alaix\\AppData\\Local\\Temp\\tmp6h9pr3dj.hdf5\n"
     ]
    },
    {
     "data": {
      "application/vnd.jupyter.widget-view+json": {
       "model_id": "2583bd7c687549d8bbc0eee236a7ff57",
       "version_major": 2,
       "version_minor": 0
      },
      "text/plain": [
       "Iterating over trajectories to create data pairs:   0%|          | 0/90 [00:00<?, ?it/s]"
      ]
     },
     "metadata": {},
     "output_type": "display_data"
    },
    {
     "name": "stderr",
     "output_type": "stream",
     "text": [
      "prescyent.dataset : INFO  - Train dataset has a size of 12729 [C:\\Users\\Alaix\\repositories\\prescyent\\prescyent\\dataset\\dataset.py:203]\n",
      "prescyent.dataset : INFO  - Generated (x,y) pairs with shapes (torch.Size([1, 10, 3, 3]), torch.Size([1, 10, 3, 3])) [C:\\Users\\Alaix\\repositories\\prescyent\\prescyent\\dataset\\dataset.py:207]\n",
      "prescyent.dataset : INFO  - Generating new datapair from 13 trajectories on disk [C:\\Users\\Alaix\\repositories\\prescyent\\prescyent\\dataset\\hdf5_datasample.py:40]\n"
     ]
    },
    {
     "name": "stdout",
     "output_type": "stream",
     "text": [
      "datasample C:\\Users\\Alaix\\AppData\\Local\\Temp\\tmpbanxx1il.hdf5\n"
     ]
    },
    {
     "data": {
      "application/vnd.jupyter.widget-view+json": {
       "model_id": "27e5bc0779b74aaba91f4e38c4a9f4ab",
       "version_major": 2,
       "version_minor": 0
      },
      "text/plain": [
       "Iterating over trajectories to create data pairs:   0%|          | 0/13 [00:00<?, ?it/s]"
      ]
     },
     "metadata": {},
     "output_type": "display_data"
    },
    {
     "name": "stderr",
     "output_type": "stream",
     "text": [
      "prescyent.dataset : INFO  - Val dataset has a size of 1888 [C:\\Users\\Alaix\\repositories\\prescyent\\prescyent\\dataset\\dataset.py:222]\n",
      "prescyent.dataset : INFO  - Generated (x,y) pairs with shapes (torch.Size([1, 10, 3, 3]), torch.Size([1, 10, 3, 3])) [C:\\Users\\Alaix\\repositories\\prescyent\\prescyent\\dataset\\dataset.py:226]\n"
     ]
    },
    {
     "name": "stdout",
     "output_type": "stream",
     "text": [
      "#######################\n",
      "TRAINING TENSOR SHAPES:\n",
      "#######################\n",
      "input_tensor as shapes torch.Size([256, 10, 3, 3])\n",
      "output_tensor as shapes torch.Size([256, 10, 3, 3])\n",
      "#######################\n"
     ]
    },
    {
     "data": {
      "image/png": "[encoded data removed]",
      "text/plain": [
       "<Figure size 1285x2000 with 3 Axes>"
      ]
     },
     "metadata": {},
     "output_type": "display_data"
    }
   ],
   "source": [
    "import matplotlib.pyplot as plt\n",
    "import numpy as np\n",
    "\n",
    "from prescyent.dataset import TeleopIcubDataset, TeleopIcubDatasetConfig\n",
    "from prescyent.evaluator.plotting import plot_trajectory_feature_wise\n",
    "\n",
    "\n",
    "# You may want to update your dataset path depending on where your hdf5 file is:\n",
    "HDF5_PATH = \"../data/datasets/AndyData-lab-prescientTeleopICub.hdf5\"\n",
    "\n",
    "dataset_config = TeleopIcubDatasetConfig(\n",
    "    hdf5_path=HDF5_PATH,\n",
    "    batch_size=256,\n",
    "    # Change the configuration of the dataset here !\n",
    "    )\n",
    "dataset = TeleopIcubDataset(dataset_config)\n",
    "\n",
    "input_tensor, context, output_tensor = next(iter(dataset.train_dataloader()))\n",
    "\n",
    "# Show shapes of data from the dataloaders as it'll be seen for the models\n",
    "print(f\"#######################\")\n",
    "print(f\"TRAINING TENSOR SHAPES:\")\n",
    "print(f\"#######################\")\n",
    "print(f\"input_tensor as shapes {input_tensor.shape}\")\n",
    "print(f\"output_tensor as shapes {output_tensor.shape}\")\n",
    "for context_key, context_tensor in context.items():\n",
    "    print(f\"context {context_key} as shapes {context_tensor.shape}\")\n",
    "print(f\"#######################\")\n",
    "\n",
    "# Plot data from a test trajectory itself\n",
    "plot_trajectory_feature_wise(dataset.trajectories.test[0])"
   ]
  },
  {
   "cell_type": "markdown",
   "metadata": {},
   "source": [
    "## Test Baselines on this dataset\n",
    "\n",
    "Now that you loaded a dataset, you want to run some predictors over it\n",
    "Let's meet the predictors with a very simple baseline, such as the ConstantPredictor or DelayedPredictor\n",
    "Instantiate one of theses baselines bellow and see the resulting prediction plot\n"
   ]
  },
  {
   "cell_type": "code",
   "execution_count": null,
   "metadata": {},
   "outputs": [],
   "source": [
    "from prescyent.evaluator.plotting import plot_prediction_feature_wise\n",
    "\n",
    "# import and instantiate one baseline here:\n",
    "\n",
    "from prescyent.predictor import ConstantPredictor, PredictorConfig\n",
    "\n",
    "baseline = ConstantPredictor(PredictorConfig(dataset_config=dataset.config))\n",
    "test_traj = dataset.trajectories.test[0]\n",
    "\n",
    "\n",
    "# remember that the future size if the number of predicted frames\n",
    "# if you want to test a prediction at a S second future, you can use:\n",
    "S = 2.5\n",
    "future_size = int(S * test_traj.frequency)\n",
    "\n",
    "# usually we set the same future_size as the dataset's config:\n",
    "# future_size = dataset.config.future_size\n",
    "# but you can play with this value and baselines to update the produced plot\n",
    "\n",
    "# we create a new predicted trajectory from a given predictor, built from the last predicted frame at each timestep\n",
    "baseline_traj, baseline_offset = baseline.predict_trajectory(\n",
    "    test_traj, future_size=future_size\n",
    ")\n",
    "# subset a truth trajectory from thge original traj if needed, to compare fairly with prediction\n",
    "truth_traj = test_traj.create_subtraj(\n",
    "    dataset.config.out_points, dataset.config.out_features\n",
    ")\n",
    "title = f\"{baseline}_over_{truth_traj.title}\"\n",
    "# plot prediction along truth\n",
    "\n",
    "plot_prediction_feature_wise(\n",
    "    truth_traj,\n",
    "    baseline_traj,\n",
    "    offset=baseline_offset,\n",
    ")\n",
    "\n",
    "# Notice that the predicted trajectory doesn't start at T = future_size\n",
    "# Because we need to have an input of size history_size before predicting an output of size future_size\n",
    "# So actually the first predicted frame is at T = history_size + future_size - 1\n"
   ]
  },
  {
   "cell_type": "markdown",
   "metadata": {},
   "source": [
    "\n",
    "## Train a Predictor model and save it\n",
    "\n",
    "Using our simplest architecture, the MlpPredictor we'll see how to train and save a ML Predictor, using high level methods based on the pytorch_lightning syntax.  \n",
    "\n",
    "Here you'll see that each of our ML Predictors as their own specific PredictorConfig, as they allow to customize their layers and behavior.  \n",
    "In addition to their config, to allow some training, you'll have to define a TrainingConfig object, again customizing the training process (number of epochs, early stopping patience, learning rate...)  \n",
    "\n",
    "It's also the moment to introduce the enums, such as LossFunctions or LearningTypes.  \n",
    "They are a standard we chose over Literals to describe a set of finite possibilities for a given config value, and define cleaner conditions based on theses values in the code instead of manipulating strings or another type.\n",
    "You'll find all of them importable from `prescyent.utils.enums`.  \n",
    "And more details about their values in the doc here: https://hucebot.github.io/prescyent/configuration_files.html  \n",
    "\n",
    "Once your model is trained, or during its training, you can monitor many training metrics using using tensorboard and providing the path to the directory where the model logs (defined by its configs' `save_path` argument, which default's value is \"data/models\"):\n",
    "`tensorboard --logdir data/models`"
   ]
  },
  {
   "cell_type": "code",
   "execution_count": null,
   "metadata": {},
   "outputs": [],
   "source": [
    "\n",
    "from pathlib import Path\n",
    "\n",
    "from prescyent.predictor import MlpPredictor, MlpConfig, TrainingConfig\n",
    "from prescyent.scaler import ScalerConfig\n",
    "from prescyent.utils.enums import LossFunctions, Scalers, TrajectoryDimensions, LearningTypes\n",
    "\n",
    "\n",
    "# -- Configure scaler\n",
    "scaler_config = ScalerConfig(\n",
    "    do_feature_wise_scaling=True,\n",
    "    scaler=Scalers.STANDARDIZATION,\n",
    "    scaling_axis=TrajectoryDimensions.TEMPORAL,\n",
    ")\n",
    "# -- Init predictor\n",
    "print(\"Initializing predictor...\", end=\" \")\n",
    "config = MlpConfig(\n",
    "    dataset_config=dataset_config,\n",
    "    context_size=dataset.context_size_sum,\n",
    "    scaler_config=scaler_config,  # pass the scaler config to the predictor, which owns the scaling functions\n",
    "    hidden_size=128,\n",
    "    num_layers=4,\n",
    "    deriv_on_last_frame=True,\n",
    "    loss_fn=LossFunctions.MTDLOSS,\n",
    ")\n",
    "predictor = MlpPredictor(config=config)\n",
    "print(\"OK\")\n",
    "\n",
    "# Train\n",
    "training_config = TrainingConfig(\n",
    "    max_epochs=200,  # Maximum number of training epochs\n",
    "    devices=\"auto\",  # Chose the best available devices (see lightning documentation for more)\n",
    "    accelerator=\"auto\",  # Chose the best available accelerator (see lightning documentation for more)\n",
    "    lr=0.0001,  # The learning rate\n",
    "    early_stopping_patience=10,  # We'll stop the training before max_epochs if the validation loss doesn't improve for 10 epochs\n",
    ")\n",
    "\n",
    "# Scaler is also trained by the predictor's method !\n",
    "predictor.train(dataset, training_config)\n",
    "\n",
    "# Save the predictor in an explicit directory describing the settings of the experiment\n",
    "xp_dir = (\n",
    "    Path( \"data\")\n",
    "    / \"models\"\n",
    "    / f\"{dataset.DATASET_NAME}\"\n",
    "    / f\"h{dataset_config.history_size}_f{dataset_config.future_size}_{dataset.frequency}hz\"\n",
    ")\n",
    "model_dir = xp_dir / f\"{predictor.name}\" / f\"version_{predictor.version}\"\n",
    "print(\"Model directory:\", model_dir)\n",
    "predictor.save(model_dir, rm_log_path=False)"
   ]
  },
  {
   "cell_type": "markdown",
   "metadata": {},
   "source": [
    "\n",
    "## Load a model\n",
    "\n",
    "You can load a Predictor from disk using its static method `load_pretrained`. You must provide as argument the path to root directory of the model or directly to its config.json file.  \n",
    "Also when loading a Predictor from disk, you may choose on which `torch.device` you want to load your model's weights, by passing the device as an argument to the `load_pretrained` method of AutoPredictor or Predictor.  \n",
    "Remember that choosing the device is made through the `TrainingConfig.accelerator` attribute when you are creating a model from scratch.  \n",
    "The AutoPredictor class allows to load or build a Predictor based on its config file. The class has to be a class from the library in order for the AutoPredictor to function and recognize it (see in the user doc how to create a new predictor and add it to the AutoPredictor class).  \n",
    "It is perfect to generate an evaluation script that is agnostic to the actual class of predictor.  \n",
    "\n",
    "\n",
    "Note also that we still use the same loaded dataset, but the AutoDataset class also exists for the same purpose: reloading a Dataset used from a dataset_config\n"
   ]
  },
  {
   "cell_type": "code",
   "execution_count": null,
   "metadata": {},
   "outputs": [],
   "source": [
    "from prescyent.auto_predictor import AutoPredictor\n",
    "\n",
    "loaded_predictor = MlpPredictor.load_pretrained(model_dir, device=\"cpu\")\n",
    "loaded_predictor.describe()\n",
    "loaded_predictor = AutoPredictor.load_pretrained(model_dir / 'config.json', device=\"cpu\")\n",
    "loaded_predictor.describe()"
   ]
  },
  {
   "cell_type": "markdown",
   "metadata": {},
   "source": [
    "# Evaluate Predictor\n",
    "\n",
    "The metrics\n",
    "We've seen qualitative evaluations with the previous work, here we'll introduce some quantitative metrics\n",
    "First, we'll use the `test` method of the Predictor class to run the predictor over the whole test dataloader and return some metrics:\n",
    "ADE\n",
    "FDE\n",
    "MPJPE\n",
    "Again you can monitor the results of such test method using tensorboard\n",
    "\n",
    "We introduce here another evaluation plot and metric: the MPJPE\n"
   ]
  },
  {
   "cell_type": "code",
   "execution_count": null,
   "metadata": {},
   "outputs": [],
   "source": [
    "from prescyent.evaluator.plotting import plot_mpjpe\n",
    "\n",
    "loaded_predictor.test(dataset)\n",
    "plot_mpjpe(loaded_predictor, dataset, savefig_dir_path=model_dir / \"test_plots\")\n",
    "\n",
    "# We prepare our trajectory for input if a transformation is needed\n",
    "input_traj = test_traj.create_subtraj(\n",
    "    dataset.config.in_points,\n",
    "    dataset.config.in_features,\n",
    "    dataset.config.context_keys,\n",
    ")\n",
    "# we create a new predicted trajectory from a given predictor\n",
    "predicted_traj, pred_offset = predictor.predict_trajectory(\n",
    "    input_traj, future_size=dataset_config.future_size\n",
    ")\n",
    "plot_prediction_feature_wise(\n",
    "    truth_traj,\n",
    "    predicted_traj,\n",
    "    offset=pred_offset,\n",
    ")"
   ]
  },
  {
   "cell_type": "markdown",
   "metadata": {},
   "source": [
    "# Compare Predictors\n",
    "\n",
    "in addition to the results you can check with tensorboard\n",
    "our plot methods have a plural variant used to compared trajectories and mpjpe results\n",
    "also we provide a runner method in evaluator to perform all we did upper with a list of trajectories and predictors, providing also a summary of the evaluations"
   ]
  },
  {
   "cell_type": "code",
   "execution_count": null,
   "metadata": {},
   "outputs": [],
   "source": [
    "from prescyent.evaluator.plotting import plot_mpjpes, plot_trajectories_feature_wise\n",
    "from prescyent.evaluator.runners import eval_predictors, dump_eval_summary_list\n",
    "\n",
    "\n",
    "predictor_list = [loaded_predictor, baseline]\n",
    "\n",
    "plot_mpjpes(predictors=predictor_list, dataset=dataset)\n",
    "plot_trajectories_feature_wise(\n",
    "    [truth_traj, predicted_traj, baseline_traj],\n",
    "    [0, pred_offset, baseline_offset],\n",
    ")\n",
    "eval_summary_list = eval_predictors(\n",
    "    predictors=predictor_list,\n",
    "    trajectories=dataset.trajectories.test,\n",
    "    dataset_config=dataset.config,\n",
    "    future_size=None,  # will default to the future size in dataset_config\n",
    "    run_method=\"step_every_timestamp\",  # we run the predictor at each frame and retain the last predicted frame to create the predicted trajectory\n",
    "    do_plotting=True,  # you may want to disable theses or update the plotting function used as it is mainly made for low dim features (like Coordinates) and not too many points to plot\n",
    "    saveplot_dir_path=\"tests/plots\",\n",
    ")\n",
    "dump_eval_summary_list(\n",
    "    eval_summary_list, dump_dir=\"tests\", dump_prediction=True\n",
    ")"
   ]
  },
  {
   "cell_type": "markdown",
   "metadata": {},
   "source": [
    "\n",
    "# Surcharge the library with your own uses\n",
    "\n",
    "## Use the CustomDataset\n",
    "\n",
    "As long as you created the Trajectories object, you can benefit from the libs sampling and methods passing your trajectories to a CustomDataset (you just won't benefit from the AutoDataset).\n",
    "Note that for more permanent use of the library, you may prefer to create a new TrajectoryDataset instance with its own config class. Please check in the user documentation for more infos.\n",
    "\n",
    "### Features and conversions\n",
    "\n",
    "Example with a custom dataset having quaternions as trajectories that produces\n"
   ]
  },
  {
   "cell_type": "code",
   "execution_count": 23,
   "metadata": {},
   "outputs": [
    {
     "name": "stderr",
     "output_type": "stream",
     "text": [
      "prescyent.dataset : DEBUG - Tensor pairs will be generated for a LearningTypes.SEQ2SEQ learning type [C:\\Users\\Alaix\\repositories\\prescyent\\prescyent\\dataset\\dataset.py:189]\n",
      "prescyent.dataset : INFO  - Generating new datapair from 6 trajectories on disk [C:\\Users\\Alaix\\repositories\\prescyent\\prescyent\\dataset\\hdf5_datasample.py:40]\n"
     ]
    },
    {
     "name": "stdout",
     "output_type": "stream",
     "text": [
      "<prescyent.dataset.trajectories.trajectories.Trajectories object at 0x00000239E2822A10>\n"
     ]
    },
    {
     "data": {
      "application/vnd.jupyter.widget-view+json": {
       "model_id": "68ba8147cc964b65b3aba61f94421a8a",
       "version_major": 2,
       "version_minor": 0
      },
      "text/plain": [
       "Iterating over trajectories to create data pairs:   0%|          | 0/6 [00:00<?, ?it/s]"
      ]
     },
     "metadata": {},
     "output_type": "display_data"
    },
    {
     "name": "stderr",
     "output_type": "stream",
     "text": [
      "prescyent.dataset : INFO  - Train dataset has a size of 486 [C:\\Users\\Alaix\\repositories\\prescyent\\prescyent\\dataset\\dataset.py:203]\n",
      "prescyent.dataset : INFO  - Generated (x,y) pairs with shapes (torch.Size([1, 10, 1, 1]), torch.Size([1, 10, 1, 9])) [C:\\Users\\Alaix\\repositories\\prescyent\\prescyent\\dataset\\dataset.py:207]\n",
      "prescyent.dataset : INFO  - Generating new datapair from 2 trajectories on disk [C:\\Users\\Alaix\\repositories\\prescyent\\prescyent\\dataset\\hdf5_datasample.py:40]\n"
     ]
    },
    {
     "data": {
      "application/vnd.jupyter.widget-view+json": {
       "model_id": "32f8a713fd994ea2ac083e1bbc56d157",
       "version_major": 2,
       "version_minor": 0
      },
      "text/plain": [
       "Iterating over trajectories to create data pairs:   0%|          | 0/2 [00:00<?, ?it/s]"
      ]
     },
     "metadata": {},
     "output_type": "display_data"
    },
    {
     "name": "stderr",
     "output_type": "stream",
     "text": [
      "prescyent.dataset : INFO  - Val dataset has a size of 162 [C:\\Users\\Alaix\\repositories\\prescyent\\prescyent\\dataset\\dataset.py:222]\n",
      "prescyent.dataset : INFO  - Generated (x,y) pairs with shapes (torch.Size([1, 10, 1, 1]), torch.Size([1, 10, 1, 9])) [C:\\Users\\Alaix\\repositories\\prescyent\\prescyent\\dataset\\dataset.py:226]\n"
     ]
    },
    {
     "name": "stdout",
     "output_type": "stream",
     "text": [
      "#######################\n",
      "TRAINING TENSOR SHAPES:\n",
      "#######################\n",
      "input_tensor as shapes torch.Size([128, 10, 1, 1])\n",
      "output_tensor as shapes torch.Size([128, 10, 1, 9])\n",
      "#######################\n"
     ]
    }
   ],
   "source": [
    "from scipy.spatial.transform import Rotation as R\n",
    "import numpy as np\n",
    "import torch\n",
    "\n",
    "from prescyent.dataset.datasets.custom_dataset import CustomDataset\n",
    "from prescyent.dataset.features import Features, CoordinateXYZ, CoordinateX, RotationEuler, RotationQuat, RotationRotMat\n",
    "from prescyent.dataset import Trajectories, Trajectory, TrajectoriesDatasetConfig\n",
    "\n",
    "# create a trajectory with random quaternions and coordinates\n",
    "\n",
    "def create_random_traj(num_frames: int):\n",
    "    \"\"\"x,y,z are linear here and a cosntant random rotation is generated\"\"\"\n",
    "    linear_x_coordinates = torch.FloatTensor(np.linspace(0, 10, num_frames).tolist()).unsqueeze(0)\n",
    "    linear_y_coordinates = torch.FloatTensor(np.linspace(0, 10, num_frames).tolist()).unsqueeze(0)\n",
    "    linear_z_coordinates = torch.FloatTensor(np.linspace(0, 10, num_frames).tolist()).unsqueeze(0)\n",
    "    random_quat = R.random().as_quat()\n",
    "    random_quaternions = torch.FloatTensor([random_quat for _ in range(num_frames)])\n",
    "    tensor = torch.cat((linear_x_coordinates, linear_y_coordinates, linear_z_coordinates)).transpose(0, 1)\n",
    "    tensor = torch.cat((tensor, random_quaternions), dim=1)\n",
    "    tensor = tensor.unsqueeze(1)\n",
    "    return tensor\n",
    "\n",
    "# create many and put it in Trajectories\n",
    "num_traj = 10\n",
    "frequency = 10\n",
    "list_trajectories = []\n",
    "# the features describe our tensor's last dimension, and allows feature wise distance calculus and feature conversions\n",
    "features = Features([\n",
    "    CoordinateXYZ(range(3)),\n",
    "    RotationQuat(range(3, 7))\n",
    "])\n",
    "for t in range(num_traj):\n",
    "    tensor = create_random_traj(100)\n",
    "    trajectory = Trajectory(\n",
    "        tensor=tensor,\n",
    "        frequency=frequency,\n",
    "        tensor_features=features,\n",
    "        context={},  # we don't have additional context\n",
    "        # the rest of the attributes is descriptive and used in plots\n",
    "        # for example point parents is used to describe relationship between points, like draw a bone between shoulder and wrist\n",
    "    )\n",
    "    list_trajectories.append(trajectory)\n",
    "\n",
    "trajectories = Trajectories(list_trajectories[:6], list_trajectories[6:8], list_trajectories[8:])\n",
    "print(trajectories)\n",
    "\n",
    "dataset_config = TrajectoriesDatasetConfig(\n",
    "    num_workers=0,\n",
    "    persistent_workers=False,\n",
    "    pin_memory=False,\n",
    "    frequency=frequency,\n",
    "    history_size=frequency,\n",
    "    future_size=frequency,\n",
    "    in_features=Features([CoordinateX(range(1))]),\n",
    "    out_features=Features([RotationRotMat(range(9))]),\n",
    "    in_points=[0],\n",
    "    out_points=[0],\n",
    ")\n",
    "dataset = CustomDataset(dataset_config, trajectories, name='example_dataset')\n",
    "# create CustomDataset\n",
    "# instead of a CustomDataset, you can of course directly inherit from the TrajectoryDataset class !\n",
    "# in that case, its the `prepare_data` method that endorses the role of creating the .trajectories attribute\n",
    "\n",
    "# play with features and see the shapes of the tensors\n",
    "\n",
    "input_tensor, context, output_tensor = next(iter(dataset.train_dataloader()))\n",
    "\n",
    "# Show shapes of data from the dataloaders as it'll be seen for the models\n",
    "print(f\"#######################\")\n",
    "print(f\"TRAINING TENSOR SHAPES:\")\n",
    "print(f\"#######################\")\n",
    "print(f\"input_tensor as shapes {input_tensor.shape}\")\n",
    "print(f\"output_tensor as shapes {output_tensor.shape}\")\n",
    "for context_key, context_tensor in context.items():\n",
    "    print(f\"context {context_key} as shapes {context_tensor.shape}\")\n",
    "print(f\"#######################\")\n",
    "# custom feature with distance function\n"
   ]
  },
  {
   "cell_type": "markdown",
   "metadata": {},
   "source": [
    "## Implement your own model\n",
    "\n",
    "Create a torch module with a config and inherit from the base classes to create a custom predictor benefiting from common methods.  \n",
    "You can take example on the structure of a simple baseline such as the MlpPredictor.  \n",
    "\n",
    "Train it (and save it !)  \n",
    "Test it and and plot it as upper models  \n",
    "How does it compare ?  \n"
   ]
  },
  {
   "cell_type": "code",
   "execution_count": null,
   "metadata": {},
   "outputs": [],
   "source": [
    "\n",
    "from typing import Dict\n",
    "import torch\n",
    "from prescyent.predictor.lightning.models.sequence.predictor import SequencePredictor\n",
    "from prescyent.predictor.lightning.configs.module_config import ModuleConfig\n",
    "from prescyent.predictor.lightning.torch_module import BaseTorchModule\n",
    "from prescyent.utils.tensor_manipulation import self_auto_batch\n",
    "\n",
    "\n",
    "class NewConfig(ModuleConfig):\n",
    "    \"\"\"New config for a lightning predictor with a torch module\"\"\"\n",
    "    # pass keys and values here that you may want to see vary in your architecture, like:\n",
    "    hidden_size: int = 128\n",
    "    # you can add more constraints on your config's attribute, like validators or min/max values\n",
    "    # see the Pydantic library's Documentation for more information, or check some examples in our code\n",
    "\n",
    "class NewTorchModule(BaseTorchModule):\n",
    "    \"\"\"New torch module inheriting from forward's decorator methods\n",
    "        create it's init and forward methods as any pytorch module !\n",
    "    \"\"\"\n",
    "    def __init__(self, config: NewConfig) -> None:\n",
    "        super().__init__(config)\n",
    "        # After the super().__init__(), you benefit from some infos from the config like theses:\n",
    "        self.in_size = self.out_sequence_size * self.num_out_points * self.num_out_dims\n",
    "        self.out_size = self.out_sequence_size * self.num_out_points * self.num_out_dims\n",
    "        #\n",
    "        # YOUR CODE HERE\n",
    "        #\n",
    "\n",
    "    @self_auto_batch  # <= auto batch the input, and unbatch the output if input tensor as only 3 shapes\n",
    "    @BaseTorchModule.deriv_tensor  # <= allows the behaviors described by`deriv_on_last_frame` and `deriv_output`\n",
    "    def forward(self, input_tensor: torch.Tensor, future_size: int=None, context: Dict[str, torch.Tensor] | None = None) -> torch.Tensor:\n",
    "        if future_size is None:  # future_size is optional for seq2seq predictors ! so if you intend to index on it, use this !\n",
    "            future_size = self.out_sequence_size\n",
    "        #\n",
    "        # YOUR CODE HERE\n",
    "        #\n",
    "\n",
    "class NewPredictor(SequencePredictor):\n",
    "    \"\"\"New class used to connect the config and torch module\n",
    "       while inheriting from all base methods\"\"\"\n",
    "\n",
    "    PREDICTOR_NAME = \"NewPredictor\"\n",
    "    \"\"\"unique name for this predictor\"\"\"\n",
    "    module_class = NewTorchModule\n",
    "    \"\"\"LightningModule class used in this predictor\"\"\"\n",
    "    config_class = NewConfig\n",
    "    \"\"\"PredictorConfig class used in this predictor\"\"\"\n",
    "\n",
    "    def __init__(self, config: NewConfig, skip_build: bool = False):\n",
    "        super().__init__(config=config, name=self.PREDICTOR_NAME, skip_build=skip_build)"
   ]
  }
 ],
 "metadata": {
  "kernelspec": {
   "display_name": "Python 3",
   "language": "python",
   "name": "python3"
  },
  "language_info": {
   "codemirror_mode": {
    "name": "ipython",
    "version": 3
   },
   "file_extension": ".py",
   "mimetype": "text/x-python",
   "name": "python",
   "nbconvert_exporter": "python",
   "pygments_lexer": "ipython3",
   "version": "3.10.11"
  }
 },
 "nbformat": 4,
 "nbformat_minor": 2
}
